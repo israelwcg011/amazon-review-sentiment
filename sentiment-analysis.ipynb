{
 "cells": [
  {
   "cell_type": "markdown",
   "metadata": {},
   "source": [
    "# In this project we are going to use an LSTM on Amazon reviews to identify emotions in a sentence and determine their polarity."
   ]
  },
  {
   "cell_type": "markdown",
   "metadata": {},
   "source": [
    "# Libraries"
   ]
  },
  {
   "cell_type": "code",
   "execution_count": 1,
   "metadata": {},
   "outputs": [
    {
     "name": "stderr",
     "output_type": "stream",
     "text": [
      "C:\\Users\\Israel\\Anaconda3\\lib\\site-packages\\h5py\\__init__.py:36: FutureWarning: Conversion of the second argument of issubdtype from `float` to `np.floating` is deprecated. In future, it will be treated as `np.float64 == np.dtype(float).type`.\n",
      "  from ._conv import register_converters as _register_converters\n",
      "Using TensorFlow backend.\n"
     ]
    }
   ],
   "source": [
    "import tensorflow as tf\n",
    "import numpy as np\n",
    "import pandas as pd\n",
    "import re\n",
    "import keras\n",
    "from keras import Model\n",
    "from tensorflow.keras.layers import Flatten, LSTM, Dense, Flatten, Embedding\n",
    "from tensorflow.keras.preprocessing.sequence import pad_sequences\n",
    "from tensorflow.keras.utils import to_categorical\n",
    "from tensorflow.keras.models import Sequential\n",
    "from keras_preprocessing.text import Tokenizer\n",
    "from keras.initializers import glorot_uniform\n",
    "from sklearn import model_selection"
   ]
  },
  {
   "cell_type": "markdown",
   "metadata": {},
   "source": [
    "# Load the data"
   ]
  },
  {
   "cell_type": "code",
   "execution_count": 2,
   "metadata": {},
   "outputs": [],
   "source": [
    "#read in data\n",
    "\n",
    "with open('./amazon_review_polarity_csv/train.csv', 'r', encoding='utf-8-sig') as file:\n",
    "    text = file.readlines()"
   ]
  },
  {
   "cell_type": "code",
   "execution_count": 3,
   "metadata": {},
   "outputs": [],
   "source": [
    "#create empty dataframe\n",
    "\n",
    "x_train = pd.DataFrame()"
   ]
  },
  {
   "cell_type": "code",
   "execution_count": 4,
   "metadata": {},
   "outputs": [
    {
     "data": {
      "text/html": [
       "<div>\n",
       "<style scoped>\n",
       "    .dataframe tbody tr th:only-of-type {\n",
       "        vertical-align: middle;\n",
       "    }\n",
       "\n",
       "    .dataframe tbody tr th {\n",
       "        vertical-align: top;\n",
       "    }\n",
       "\n",
       "    .dataframe thead th {\n",
       "        text-align: right;\n",
       "    }\n",
       "</style>\n",
       "<table border=\"1\" class=\"dataframe\">\n",
       "  <thead>\n",
       "    <tr style=\"text-align: right;\">\n",
       "      <th></th>\n",
       "      <th>consumer_review</th>\n",
       "      <th>polarity_label</th>\n",
       "    </tr>\n",
       "  </thead>\n",
       "  <tbody>\n",
       "    <tr>\n",
       "      <th>0</th>\n",
       "      <td>even for the non-gamer\",\"This sound track was ...</td>\n",
       "      <td>0</td>\n",
       "    </tr>\n",
       "    <tr>\n",
       "      <th>1</th>\n",
       "      <td>best soundtrack ever to anything.\",\"I'm readin...</td>\n",
       "      <td>0</td>\n",
       "    </tr>\n",
       "    <tr>\n",
       "      <th>2</th>\n",
       "      <td>soundtrack is my favorite music of all time, h...</td>\n",
       "      <td>0</td>\n",
       "    </tr>\n",
       "    <tr>\n",
       "      <th>3</th>\n",
       "      <td>Soundtrack\",\"I truly like this soundtrack and ...</td>\n",
       "      <td>0</td>\n",
       "    </tr>\n",
       "    <tr>\n",
       "      <th>4</th>\n",
       "      <td>Pull Your Jaw Off The Floor After Hearing it\",...</td>\n",
       "      <td>0</td>\n",
       "    </tr>\n",
       "    <tr>\n",
       "      <th>...</th>\n",
       "      <td>...</td>\n",
       "      <td>...</td>\n",
       "    </tr>\n",
       "    <tr>\n",
       "      <th>3599995</th>\n",
       "      <td>do it!!\",\"The high chair looks great when it f...</td>\n",
       "      <td>0</td>\n",
       "    </tr>\n",
       "    <tr>\n",
       "      <th>3599996</th>\n",
       "      <td>nice, low functionality\",\"I have used this hig...</td>\n",
       "      <td>0</td>\n",
       "    </tr>\n",
       "    <tr>\n",
       "      <th>3599997</th>\n",
       "      <td>but hard to clean\",\"We have a small house, and...</td>\n",
       "      <td>0</td>\n",
       "    </tr>\n",
       "    <tr>\n",
       "      <th>3599998</th>\n",
       "      <td>is it saying?\",\"not sure what this book is sup...</td>\n",
       "      <td>0</td>\n",
       "    </tr>\n",
       "    <tr>\n",
       "      <th>3599999</th>\n",
       "      <td>My Blood Run Red-White-And-Blue\",\"I agree that...</td>\n",
       "      <td>0</td>\n",
       "    </tr>\n",
       "  </tbody>\n",
       "</table>\n",
       "<p>3600000 rows × 2 columns</p>\n",
       "</div>"
      ],
      "text/plain": [
       "                                           consumer_review  polarity_label\n",
       "0        even for the non-gamer\",\"This sound track was ...               0\n",
       "1        best soundtrack ever to anything.\",\"I'm readin...               0\n",
       "2        soundtrack is my favorite music of all time, h...               0\n",
       "3        Soundtrack\",\"I truly like this soundtrack and ...               0\n",
       "4        Pull Your Jaw Off The Floor After Hearing it\",...               0\n",
       "...                                                    ...             ...\n",
       "3599995  do it!!\",\"The high chair looks great when it f...               0\n",
       "3599996  nice, low functionality\",\"I have used this hig...               0\n",
       "3599997  but hard to clean\",\"We have a small house, and...               0\n",
       "3599998  is it saying?\",\"not sure what this book is sup...               0\n",
       "3599999  My Blood Run Red-White-And-Blue\",\"I agree that...               0\n",
       "\n",
       "[3600000 rows x 2 columns]"
      ]
     },
     "execution_count": 4,
     "metadata": {},
     "output_type": "execute_result"
    }
   ],
   "source": [
    "#fill in dataframe\n",
    "\n",
    "word = []\n",
    "label = []\n",
    "for n in text:\n",
    "    n = n.split()\n",
    "    label.append(1) if n[0] == \"__label__2\" else label.append(0)\n",
    "    word.append(\" \".join(n[1:]))\n",
    "x_train['consumer_review'] = word\n",
    "x_train['polarity_label'] = label\n",
    "\n",
    "#view dataframe\n",
    "\n",
    "x_train"
   ]
  },
  {
   "cell_type": "markdown",
   "metadata": {},
   "source": [
    "# Prepare the data"
   ]
  },
  {
   "cell_type": "code",
   "execution_count": 5,
   "metadata": {},
   "outputs": [],
   "source": [
    "_, x_set, _, y_set = model_selection.train_test_split(x_train['consumer_review'], x_train['polarity_label'], test_size = 0.02)"
   ]
  },
  {
   "cell_type": "code",
   "execution_count": 6,
   "metadata": {},
   "outputs": [],
   "source": [
    "#data cleaning function\n",
    "def data_prep(in_text):\n",
    "    # remove puctuations and numbers\n",
    "    out_text = re.sub('[^a-zA-Z]', ' ', in_text)\n",
    "    # convert upper case to lower case\n",
    "    out_text = \"\".join(list(map(lambda x: x.lower(), out_text)))\n",
    "    # remove single character\n",
    "    out_text = re.sub(r\"\\s+[a-zA-Z]\\s+\", ' ', out_text)\n",
    "    return out_text"
   ]
  },
  {
   "cell_type": "code",
   "execution_count": 7,
   "metadata": {},
   "outputs": [],
   "source": [
    "#create new list with clean data\n",
    "\n",
    "text_set = []\n",
    "for reviews in list(x_set):\n",
    "    text_set.append(data_prep(reviews))"
   ]
  },
  {
   "cell_type": "code",
   "execution_count": 8,
   "metadata": {},
   "outputs": [],
   "source": [
    "x_train = pd.DataFrame()\n",
    "x_train['consumer_review'] = text_set\n",
    "x_train['polarity_label'] = list(y_set)"
   ]
  },
  {
   "cell_type": "code",
   "execution_count": 10,
   "metadata": {},
   "outputs": [],
   "source": [
    "#split data into 70% train and 30% test\n",
    "\n",
    "x_train, x_test, y_train, y_test = model_selection.train_test_split(x_train['consumer_review'], x_train['polarity_label'], test_size = 0.30)"
   ]
  },
  {
   "cell_type": "code",
   "execution_count": 11,
   "metadata": {},
   "outputs": [],
   "source": [
    "#convert to array\n",
    "\n",
    "x_train = np.array(x_train.values.tolist())\n",
    "x_test = np.array(x_test.values.tolist())\n",
    "y_train = np.array(y_train.values.tolist())\n",
    "y_test = np.array(y_test.values.tolist())"
   ]
  },
  {
   "cell_type": "code",
   "execution_count": 19,
   "metadata": {},
   "outputs": [
    {
     "name": "stdout",
     "output_type": "stream",
     "text": [
      "76613\n"
     ]
    }
   ],
   "source": [
    "#tokenizer\n",
    "\n",
    "tokenizer = Tokenizer()\n",
    "tokenizer.fit_on_texts(x_train)\n",
    "word_index = tokenizer.word_index\n",
    "total_size = len(word_index) + 1\n",
    "\n",
    "print(total_size)"
   ]
  },
  {
   "cell_type": "code",
   "execution_count": 21,
   "metadata": {},
   "outputs": [],
   "source": [
    "# text to sequance\n",
    "\n",
    "x_train = tokenizer.texts_to_sequences(x_train)\n",
    "x_test = tokenizer.texts_to_sequences(x_test)"
   ]
  },
  {
   "cell_type": "code",
   "execution_count": 24,
   "metadata": {},
   "outputs": [],
   "source": [
    "# add padding to ensure the same length\n",
    "\n",
    "max_length = 100\n",
    "x_train = pad_sequences(x_train, padding = 'post', maxlen = max_length)\n",
    "x_test = pad_sequences(x_test, padding = 'post', maxlen = max_length)"
   ]
  },
  {
   "cell_type": "markdown",
   "metadata": {},
   "source": [
    "# Structure the model\n",
    "\n",
    "## Structure the model using a Keras embedding layer, an LSTM layer and a dense layer"
   ]
  },
  {
   "cell_type": "code",
   "execution_count": 25,
   "metadata": {},
   "outputs": [
    {
     "name": "stdout",
     "output_type": "stream",
     "text": [
      "WARNING:tensorflow:From C:\\Users\\Israel\\Anaconda3\\lib\\site-packages\\tensorflow\\python\\ops\\resource_variable_ops.py:435: colocate_with (from tensorflow.python.framework.ops) is deprecated and will be removed in a future version.\n",
      "Instructions for updating:\n",
      "Colocations handled automatically by placer.\n",
      "WARNING:tensorflow:From C:\\Users\\Israel\\Anaconda3\\lib\\site-packages\\tensorflow\\python\\keras\\backend.py:4010: calling dropout (from tensorflow.python.ops.nn_ops) with keep_prob is deprecated and will be removed in a future version.\n",
      "Instructions for updating:\n",
      "Please use `rate` instead of `keep_prob`. Rate should be set to `rate = 1 - keep_prob`.\n"
     ]
    }
   ],
   "source": [
    "# Create model\n",
    "\n",
    "model = Sequential()\n",
    "model.add(Embedding(total_size, 20, input_length = max_length))\n",
    "model.add(LSTM(32, dropout = 0.2, recurrent_dropout = 0.2))\n",
    "model.add(Dense(1, activation = 'sigmoid'))"
   ]
  },
  {
   "cell_type": "markdown",
   "metadata": {},
   "source": [
    "# Compile the model"
   ]
  },
  {
   "cell_type": "code",
   "execution_count": 26,
   "metadata": {},
   "outputs": [
    {
     "name": "stdout",
     "output_type": "stream",
     "text": [
      "_________________________________________________________________\n",
      "Layer (type)                 Output Shape              Param #   \n",
      "=================================================================\n",
      "embedding (Embedding)        (None, 100, 20)           1532260   \n",
      "_________________________________________________________________\n",
      "lstm (LSTM)                  (None, 32)                6784      \n",
      "_________________________________________________________________\n",
      "dense (Dense)                (None, 1)                 33        \n",
      "=================================================================\n",
      "Total params: 1,539,077\n",
      "Trainable params: 1,539,077\n",
      "Non-trainable params: 0\n",
      "_________________________________________________________________\n",
      "None\n"
     ]
    }
   ],
   "source": [
    "# compile\n",
    "\n",
    "model.compile(optimizer = 'adam', loss = 'binary_crossentropy', metrics = ['acc'])\n",
    "print(model.summary())"
   ]
  },
  {
   "cell_type": "markdown",
   "metadata": {},
   "source": [
    "# Train the model"
   ]
  },
  {
   "cell_type": "code",
   "execution_count": 27,
   "metadata": {},
   "outputs": [
    {
     "name": "stdout",
     "output_type": "stream",
     "text": [
      "Train on 50400 samples, validate on 21600 samples\n",
      "WARNING:tensorflow:From C:\\Users\\Israel\\Anaconda3\\lib\\site-packages\\tensorflow\\python\\ops\\math_ops.py:3066: to_int32 (from tensorflow.python.ops.math_ops) is deprecated and will be removed in a future version.\n",
      "Instructions for updating:\n",
      "Use tf.cast instead.\n",
      "Epoch 1/5\n",
      "50400/50400 [==============================] - 67s 1ms/sample - loss: 0.0443 - acc: 0.9974 - val_loss: 2.8715e-04 - val_acc: 1.0000\n",
      "Epoch 2/5\n",
      "50400/50400 [==============================] - 69s 1ms/sample - loss: 2.1587e-04 - acc: 1.0000 - val_loss: 1.3507e-04 - val_acc: 1.0000\n",
      "Epoch 3/5\n",
      "50400/50400 [==============================] - 66s 1ms/sample - loss: 1.1353e-04 - acc: 1.0000 - val_loss: 8.1554e-05 - val_acc: 1.0000\n",
      "Epoch 4/5\n",
      "50400/50400 [==============================] - 64s 1ms/sample - loss: 7.0935e-05 - acc: 1.0000 - val_loss: 5.4583e-05 - val_acc: 1.0000\n",
      "Epoch 5/5\n",
      "50400/50400 [==============================] - 65s 1ms/sample - loss: 4.8131e-05 - acc: 1.0000 - val_loss: 3.8556e-05 - val_acc: 1.0000\n"
     ]
    },
    {
     "data": {
      "text/plain": [
       "<tensorflow.python.keras.callbacks.History at 0x205104bcba8>"
      ]
     },
     "execution_count": 27,
     "metadata": {},
     "output_type": "execute_result"
    }
   ],
   "source": [
    "model.fit(x_train, y_train, batch_size = 128, epochs = 5, verbose = 1, validation_data = (x_test, y_test))"
   ]
  },
  {
   "cell_type": "markdown",
   "metadata": {},
   "source": [
    "# Save the model"
   ]
  },
  {
   "cell_type": "code",
   "execution_count": 28,
   "metadata": {},
   "outputs": [],
   "source": [
    "model.save('model.h5')"
   ]
  }
 ],
 "metadata": {
  "kernelspec": {
   "display_name": "Python 3",
   "language": "python",
   "name": "python3"
  },
  "language_info": {
   "codemirror_mode": {
    "name": "ipython",
    "version": 3
   },
   "file_extension": ".py",
   "mimetype": "text/x-python",
   "name": "python",
   "nbconvert_exporter": "python",
   "pygments_lexer": "ipython3",
   "version": "3.6.4"
  }
 },
 "nbformat": 4,
 "nbformat_minor": 2
}
